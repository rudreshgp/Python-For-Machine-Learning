{
 "cells": [
  {
   "cell_type": "markdown",
   "metadata": {},
   "source": [
    "# Exercise Sheet 4: Sampling, Simulation"
   ]
  },
  {
   "cell_type": "markdown",
   "metadata": {},
   "source": [
    "In this exercise sheet, we will simulate a Markov chain. In the first part, we will consider a pure Python based implementation where a single particle jumps from one position to another of the lattice, where all transitions to neighboring states have the same probability. Then, we will add probability weightings for the transitions. Finally, the implementation will be parallelized to run many chains in parallel."
   ]
  },
  {
   "cell_type": "code",
   "execution_count": null,
   "metadata": {
    "collapsed": true
   },
   "outputs": [],
   "source": [
    "%matplotlib inline"
   ]
  },
  {
   "cell_type": "markdown",
   "metadata": {
    "collapsed": true
   },
   "source": [
    "## Exercise 1: Random moves in a lattice (20 P)\n",
    "\n",
    "In this exercise, we will simulate the propagation of particles in a graph composed of 8 states (denoted by letters A-H) and stored in the variable `S` defined in the cell below. The lattice is the following:\n",
    "\n",
    "![](lattice.png)\n",
    "\n",
    "The particle starts in state `A` and then jumps randomly from its current state to one of its neighbors, all with same probability. Note that it cannot stay at the current position. The dictionary `T` defined in the cell below encode such transition behavior."
   ]
  },
  {
   "cell_type": "code",
   "execution_count": null,
   "metadata": {
    "collapsed": true
   },
   "outputs": [],
   "source": [
    "# List of states\n",
    "S = 'ABCDEFGH'\n",
    "\n",
    "# Set of transitions\n",
    "T = {'A':'BE','B':'AFC','C':'BGD','D':'CH','E':'AF','F':'EBG','G':'FCH','H':'GD'}"
   ]
  },
  {
   "cell_type": "markdown",
   "metadata": {},
   "source": [
    "Using pure Python, simulate the experiment below and run it for 1999 iterations. Print the sequence of first 400 states visited by the particle.  To obtain the same results as in `pdf` solution file, you should initialize the seed of the module `random` to value `123` using the function `random.seed` before starting the simulation."
   ]
  },
  {
   "cell_type": "code",
   "execution_count": 4,
   "metadata": {
    "collapsed": false
   },
   "outputs": [
    {
     "data": {
      "text/plain": [
       "'ABABAEAEAEABFEABAEABFGFEFEFBAEFBCBFBCBFGCDHDHGHGFGFGHDCGCBFBFEAEABAEFGCDHDCGFGCDCBABFEABABFEABFEFBCBFGCGCDHGHDCBAEAEFEFGHGFGCGHGFEFBCDHDCDCGHDCGCGHGFBABFGFEAEFEFEABFGHDHGHDCDHGCBFEFGHDCDCBCGHGCDCDHGHGCGHGCGHGFGFGFBAEFEFEAEAEFGFGFEFGCBCBCDCDCDHDCGHGCDCBABFBFEAEFGHGHGFEAEABCBCGHGCDCGCBABAEAEAEFEFGHGFEAEFEABABAEAEAEABAEFEAEFEFEAEAEFBABCDCBFGFGFEABCGFEABCGHDHGCDCBABCDCBCBAEFBCDHGCDCGHDHGHGCDHGHDCBFGFB'"
      ]
     },
     "execution_count": 4,
     "metadata": {},
     "output_type": "execute_result"
    }
   ],
   "source": [
    "import random\n",
    "def Random_experiment(Tdictionary,loops):\n",
    "    random_outcome = []\n",
    "    key = \"A\"\n",
    "    random.seed(123)\n",
    "    for i in range(0,loops):\n",
    "        random_outcome.append(key)\n",
    "        key = str(random.choice(list(Tdictionary[key])))\n",
    "    return random_outcome\n",
    "random_outcome = Random_experiment(T,1999)\n",
    "''.join(random_outcome[0:400])"
   ]
  },
  {
   "cell_type": "markdown",
   "metadata": {},
   "source": [
    "Using `matplotlib`, produce a bar plot (`matplotlib.pyplot.bar`) showing the fraction of the time the particle is found in a given state, averaged over the whole simulation."
   ]
  },
  {
   "cell_type": "code",
   "execution_count": 19,
   "metadata": {
    "collapsed": false
   },
   "outputs": [
    {
     "data": {
      "image/png": "[encoded data removed]",
      "text/plain": [
       "<matplotlib.figure.Figure at 0x7629a90>"
      ]
     },
     "metadata": {},
     "output_type": "display_data"
    }
   ],
   "source": [
    "from collections import defaultdict\n",
    "from collections import OrderedDict\n",
    "import matplotlib\n",
    "%matplotlib inline\n",
    "import matplotlib.pyplot as plt\n",
    "\n",
    "\n",
    "def plotgraph(result):    \n",
    "    X = [i for i in range(len(result))]\n",
    "    values = result.values()\n",
    "    plt.grid(True, ls = \":\",color='black',alpha=0.3)\n",
    "    plt.bar(X, values, color='b')\n",
    "    plt.xticks(X,result.keys())\n",
    "    plt.show()\n",
    "def GetEmptyDictionary(dictionary,samevalue = True):\n",
    "    result = dict(dictionary)\n",
    "    result = OrderedDict(sorted(result.items()))\n",
    "    counter = 0\n",
    "    for key in result.keys():\n",
    "        result[key] = counter\n",
    "        if samevalue==False:\n",
    "            counter += 1\n",
    "    return result\n",
    "def GetNormalizedData(random_outcome,dictionary):\n",
    "    result = GetEmptyDictionary(dictionary)\n",
    "    for item in random_outcome:\n",
    "        result[item]+=1\n",
    "    totalSum = sum(result.values())\n",
    "    result = {k: v / float(totalSum) for k, v in result.items()}\n",
    "    result = OrderedDict(sorted(result.items()))\n",
    "    return result\n",
    "\n",
    "random_outcomeT = Random_experiment(T,1999)\n",
    "normalizedResultT = GetNormalizedData(random_outcomeT,T)    \n",
    "plotgraph(normalizedResultT)"
   ]
  },
  {
   "cell_type": "markdown",
   "metadata": {
    "collapsed": true
   },
   "source": [
    "## Exercise 2: Adding a special state (20 P)\n",
    "\n",
    "Suppose now that the rule is modified such that everytime the particle is in state `F`, it always moves to `E` in the next step.\n",
    "\n",
    "* Modify the code to handle this special case, and create a bar plot for the new states distribution."
   ]
  },
  {
   "cell_type": "code",
   "execution_count": 20,
   "metadata": {
    "collapsed": false
   },
   "outputs": [
    {
     "data": {
      "image/png": "[encoded data removed]",
      "text/plain": [
       "<matplotlib.figure.Figure at 0x7e22a90>"
      ]
     },
     "metadata": {},
     "output_type": "display_data"
    }
   ],
   "source": [
    "Tnew = dict(T)\n",
    "Tnew['F']='E'\n",
    "random_outcomeTnew = Random_experiment(Tnew,1999)\n",
    "normalizedResultTnew = GetNormalizedData(random_outcomeTnew,Tnew)    \n",
    "plotgraph(normalizedResultTnew)"
   ]
  },
  {
   "cell_type": "markdown",
   "metadata": {},
   "source": [
    "## Exercise 3: Exact solution to the previous exercise (20 P)\n",
    "\n",
    "For simple Markov chains, a number of statistics can be obtained analytically from the structure of the transition model, in particular, by analysis of the transition matrix.\n",
    "\n",
    "* Compute the transition matrices associated to the models of exercise 1 and 2 (make sure that each row in these matrices sums to 1).\n",
    "* Give the transition matrices as argument to the function `utils.getstationary(P)` and print their result.\n",
    "\n",
    "This last function computes in closed form the stationary distribution associated to a given transition matrix `P` (i.e. the one we would get if running the simulation with such transition matrix for infinitely many time steps and looking at state frequencies)."
   ]
  },
  {
   "cell_type": "code",
   "execution_count": 18,
   "metadata": {
    "collapsed": false
   },
   "outputs": [
    {
     "name": "stdout",
     "output_type": "stream",
     "text": [
      "[ 0.09134357  0.149237    0.15056776  0.1031698   0.09102415  0.14839177\n",
      "  0.15656904  0.1096969 ]\n",
      "[ 0.18126083  0.11727466  0.07258432  0.04059123  0.30034314  0.2107625\n",
      "  0.04179097  0.03539235]\n"
     ]
    }
   ],
   "source": [
    "import numpy as np\n",
    "import utils\n",
    "from collections import Counter\n",
    "\n",
    "def GetTransitionMatrix(dictionary,random_outcomenew):\n",
    "    random_outcomenew = np.array(random_outcomenew)\n",
    "    transitionnew =[]\n",
    "    transitionnew = np.zeros((len(dictionary),len(dictionary)))\n",
    "    keyData = GetEmptyDictionary(dictionary,False)\n",
    "    for (x,y), c in Counter(zip(random_outcomenew, random_outcomenew[1:])).iteritems():\n",
    "        transitionnew[keyData[x],keyData[y]] = c\n",
    "    transitionnew =np.array([i/float(sum(i)) for i in transitionnew])\n",
    "    return transitionnew\n",
    "\n",
    "random_outcomeT = Random_experiment(T,10000)\n",
    "transition= []\n",
    "transition = GetTransitionMatrix(T,random_outcomeT)\n",
    "print(utils.getstationary(transition))\n",
    "\n",
    "random_outcomeTnew = Random_experiment(Tnew,10000)\n",
    "transition1 = GetTransitionMatrix(Tnew,random_outcomeTnew)\n",
    "print(utils.getstationary(transition1))\n",
    "\n",
    "\n"
   ]
  },
  {
   "cell_type": "markdown",
   "metadata": {},
   "source": [
    "## Exercise 4: Adding non-uniform transition probabilities (20 P)\n",
    "\n",
    "We consider the original lattice defined by the variable `T`. We set transition probabilities for each state to be such that: (1) the probability of moving left is always twice the probability of moving right when both moves are available. (2) The probability of moving vertically is the same as the probability of moving horizontally.\n",
    "\n",
    "* Build the transition matrix `P` implementing the described behavior, and compute its stationary distribution using the function `utils.getstationary(P)`.\n",
    "\n",
    "(Hints: You can notice that for each state, the transitions towards other states are always listed from left to right in the dictionary `T`. Also note that characters A-H can be mapped to integer values using the Python function ord(), thus, giving a direct relation between state names and indices of the transition matrix.)"
   ]
  },
  {
   "cell_type": "code",
   "execution_count": null,
   "metadata": {
    "collapsed": false
   },
   "outputs": [],
   "source": [
    "### Replace by your own code\n",
    "import solutions\n",
    "solutions.exercise4()\n",
    "###"
   ]
  },
  {
   "cell_type": "markdown",
   "metadata": {},
   "source": [
    "## Exercise 5: Simulation for multiple particles (20 P)\n",
    "\n",
    "We let 1000 particles evolve simultaneously in the system described in Exercise 4. The initial state of these particles is pseudo-random and given by the function `utils.getinitialstate()`.\n",
    "\n",
    "* Using the function `utils.mcstep()` that was introduced during the lecture, simulate this system for 500 time steps.\n",
    "* Estimate the stationary distribution by looking at the distribution of these particles in state space after 500 time steps.\n",
    "\n",
    "For reproducibility, give seed values to the function utils.mcstep corresponding to the current time step of the simulation (i.e. from 0 to 499)."
   ]
  },
  {
   "cell_type": "code",
   "execution_count": null,
   "metadata": {
    "collapsed": false
   },
   "outputs": [],
   "source": [
    "### Replace by your own code\n",
    "import solutions\n",
    "solutions.exercise5()\n",
    "###"
   ]
  }
 ],
 "metadata": {
  "kernelspec": {
   "display_name": "Python 2",
   "language": "python",
   "name": "python2"
  },
  "language_info": {
   "codemirror_mode": {
    "name": "ipython",
    "version": 2
   },
   "file_extension": ".py",
   "mimetype": "text/x-python",
   "name": "python",
   "nbconvert_exporter": "python",
   "pygments_lexer": "ipython2",
   "version": "2.7.13"
  }
 },
 "nbformat": 4,
 "nbformat_minor": 0
}
