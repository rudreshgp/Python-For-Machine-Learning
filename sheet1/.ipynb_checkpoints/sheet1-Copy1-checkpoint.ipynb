{
 "cells": [
  {
   "cell_type": "markdown",
   "metadata": {},
   "source": [
    "# Exercise Sheet 1: Python Basics\n",
    "\n",
    "This first  exercise sheet tests the basic functionalities of the Python programming language in the context of a simple prediction task. We consider the problem of predicting health risk of subjects from personal data and habits. We first use for this task a decision tree\n",
    "\n",
    "![](tree.png)\n",
    "\n",
    "adapted from the webpage http://www.refactorthis.net/post/2013/04/10/Machine-Learning-tutorial-How-to-create-a-decision-tree-in-RapidMiner-using-the-Titanic-passenger-data-set.aspx. For this exercise sheet, you are required to use only pure Python, and to not import any module, including numpy. In exercise sheet 2, the nearest neighbor part of this exercise sheet will be revisited with numpy."
   ]
  },
  {
   "cell_type": "markdown",
   "metadata": {},
   "source": [
    "## Classifying a single instance (15 P)\n",
    "\n",
    "* Create a function that takes as input a tuple containing values for attributes (smoker,age,diet), and computes the output of the decision tree.\n",
    "* Test your function on the tuple `('yes',31,'good')`,"
   ]
  },
  {
   "cell_type": "code",
   "execution_count": 103,
   "metadata": {
    "collapsed": false
   },
   "outputs": [
    {
     "data": {
      "text/plain": [
       "'more'"
      ]
     },
     "execution_count": 103,
     "metadata": {},
     "output_type": "execute_result"
    }
   ],
   "source": [
    "def decision_tree(smoker,age,diet):\n",
    "    risk = \"\"\n",
    "    age = int(age)\n",
    "    if(smoker=='yes'):\n",
    "        if(age>=29.5):\n",
    "            risk = \"more\"\n",
    "        else : \n",
    "            risk = \"less\"\n",
    "    elif(diet=='poor'):\n",
    "        risk='more'\n",
    "    else :\n",
    "        risk='less'\n",
    "    return risk\n",
    "\n",
    "decision_tree('yes',31,'good')\n",
    "        \n",
    "            "
   ]
  },
  {
   "cell_type": "markdown",
   "metadata": {},
   "source": [
    "## Reading a dataset from a text file (10 P)\n",
    "\n",
    "The file `health-test.txt` contains several fictious records of personal data and habits.\n",
    "\n",
    "* Read the file automatically using the methods introduced during the lecture.\n",
    "* Represent the dataset as a list of tuples."
   ]
  },
  {
   "cell_type": "code",
   "execution_count": 104,
   "metadata": {
    "collapsed": false,
    "scrolled": true
   },
   "outputs": [
    {
     "data": {
      "text/plain": [
       "[('yes', '21', 'poor'),\n",
       " ('no', '50', 'good'),\n",
       " ('no', '23', 'good'),\n",
       " ('yes', '45', 'poor'),\n",
       " ('yes', '51', 'good'),\n",
       " ('no', '60', 'good'),\n",
       " ('no', '15', 'poor'),\n",
       " ('no', '18', 'good')]"
      ]
     },
     "execution_count": 104,
     "metadata": {},
     "output_type": "execute_result"
    }
   ],
   "source": [
    "health_data_content = open('health-test.txt','r').read().splitlines()\n",
    "health_data = []\n",
    "for item in health_data_content:\n",
    "    health_data.append(tuple(item.split(',')))\n",
    "health_data"
   ]
  },
  {
   "cell_type": "markdown",
   "metadata": {},
   "source": [
    "## Applying the decision tree to the dataset (15 P)\n",
    "\n",
    "* Apply the decision tree to all points in the dataset, and compute the percentage of them that are classified as \"more risk\"."
   ]
  },
  {
   "cell_type": "code",
   "execution_count": 106,
   "metadata": {
    "collapsed": false
   },
   "outputs": [
    {
     "name": "stdout",
     "output_type": "stream",
     "text": [
      "('Risk : ', 0.375)\n"
     ]
    }
   ],
   "source": [
    "high_risk=0.0\n",
    "# for item in health_data:\n",
    "#     if(decision_tree(*item)=='more risk'):\n",
    "#         high_risk+=1\n",
    "high_risk = float(sum([1 for item in health_data if decision_tree(*item)=='more' ]))\n",
    "print(tuple(('Risk : ',high_risk/len(health_data))))"
   ]
  },
  {
   "cell_type": "markdown",
   "metadata": {},
   "source": [
    "## Learning from examples (10 P)\n",
    "\n",
    "Suppose that instead of relying on a fixed decision tree, we would like to use a data-driven approach where data points are classified based on a set of training observations manually labeled by experts. Such labeled dataset is available in the file `health-train.txt`. The first three columns have the same meaning than for `health-test.txt`, and the last column corresponds to the labels.\n",
    "\n",
    "* Write a procedure that reads this file and converts it into a list of pairs. The first element of each pair is a triplet of attributes, and the second element is the label."
   ]
  },
  {
   "cell_type": "code",
   "execution_count": 107,
   "metadata": {
    "collapsed": false
   },
   "outputs": [
    {
     "data": {
      "text/plain": [
       "[(('yes', '54', 'good'), 'less'),\n",
       " (('no', '55', 'good'), 'less'),\n",
       " (('no', '26', 'good'), 'less'),\n",
       " (('yes', '40', 'good'), 'more'),\n",
       " (('yes', '25', 'poor'), 'less'),\n",
       " (('no', '13', 'poor'), 'more'),\n",
       " (('no', '15', 'good'), 'less'),\n",
       " (('no', '50', 'poor'), 'more'),\n",
       " (('yes', '33', 'good'), 'more'),\n",
       " (('no', '35', 'good'), 'less'),\n",
       " (('no', '41', 'good'), 'less'),\n",
       " (('yes', '30', 'poor'), 'more'),\n",
       " (('no', '39', 'poor'), 'more'),\n",
       " (('no', '20', 'good'), 'less'),\n",
       " (('yes', '18', 'poor'), 'less'),\n",
       " (('yes', '55', 'good'), 'more')]"
      ]
     },
     "execution_count": 107,
     "metadata": {},
     "output_type": "execute_result"
    }
   ],
   "source": [
    "def read_health_training_data():\n",
    "    health_train_data = open('health-train.txt','r').read().splitlines()\n",
    "    health_train = [tuple((tuple((item.split(','))[:3]),(item.split(','))[3])) for item in health_train_data]\n",
    "    return health_train\n",
    "health_train = read_health_training_data()\n",
    "health_train"
   ]
  },
  {
   "cell_type": "markdown",
   "metadata": {},
   "source": [
    "## Nearest neighbor classifier (25 P)\n",
    "\n",
    "We consider the nearest neighbor algorithm that classifies test points following the label of the nearest neighbor in the training data. For this, we need to define a distance function between data points. We define it to be\n",
    "\n",
    "`d(a,b) = (a[0]!=b[0])+((a[1]-b[1])/50.0)**2+(a[2]!=b[2])`\n",
    "\n",
    "where `a` and `b` are two tuples corrsponding to the attributes of two data points.\n",
    "\n",
    "* Write a function that retrieves for a test point the nearest neighbor in the training set, and classifies the test point accordingly.\n",
    "* Test your function on the tuple `('yes',31,'good')`"
   ]
  },
  {
   "cell_type": "code",
   "execution_count": 130,
   "metadata": {
    "collapsed": false
   },
   "outputs": [
    {
     "data": {
      "text/plain": [
       "(('yes', 31, 'good'), 'more')"
      ]
     },
     "execution_count": 130,
     "metadata": {},
     "output_type": "execute_result"
    }
   ],
   "source": [
    "def calculate_distance(a,b):\n",
    "    return int(a[0]!=b[0])+((int(a[1])-int(b[1]))/50.0)**2 +int(a[2]!=b[2])\n",
    "def nearest_neighbor(test_item):\n",
    "    distance = [tuple((calculate_distance(test_item,item[0]),item[1])) for item in health_train]\n",
    "    distance = min(distance,key=lambda x:x[0])\n",
    "    return (test_item,distance[1])\n",
    "    \n",
    "nearest_neighbor(tuple(('yes',31,'good')))\n",
    "# print([nearest_neighbor(item) for item in health_data])"
   ]
  },
  {
   "cell_type": "markdown",
   "metadata": {},
   "source": [
    "* Apply both the decision tree and nearest neighbor classifiers on the test set, and find the data point(s) for which the two classifiers disagree, and the fraction of the time it happens."
   ]
  },
  {
   "cell_type": "code",
   "execution_count": 132,
   "metadata": {
    "collapsed": false
   },
   "outputs": [
    {
     "name": "stdout",
     "output_type": "stream",
     "text": [
      "([('yes', '51', 'good')], 0.125)\n"
     ]
    }
   ],
   "source": [
    "error_training = [item for item in health_data if decision_tree(*item)!=nearest_neighbor(item)[1]]\n",
    "print(error_training,len(error_training)/float(len(health_data)))"
   ]
  },
  {
   "cell_type": "markdown",
   "metadata": {},
   "source": [
    "One problem of simple nearest neighbors is that one needs to compare the point to predict to all data points in the training set. This can be slow for datasets of thousands of points or more. Alternatively, some classifiers train a model first, and then use it to classify the data.\n",
    "\n",
    "## Nearest mean classifier (25 P)\n",
    "\n",
    "We consider one such trainable model, which operates in two steps:\n",
    "\n",
    "(1) Compute the average point for each class, (2) classify new points to be of the class whose average point is nearest to the point to predict.\n",
    "\n",
    "For this classifier, we convert the attributes smoker and diet to real values (for smoker: yes=1.0 and no=0.0, and for diet: good=0.0 and poor=1.0), and use the modified distance function:\n",
    "\n",
    "`d(a,b) = (a[0]-b[0])**2+((a[1]-b[1])/50.0)**2+(a[2]-b[2])**2`\n",
    "\n",
    "We adopt an object-oriented approach for building this classifier.\n",
    "\n",
    "* Implement the methods `train` and `predict` of the class `NearestMeanClassifier`."
   ]
  },
  {
   "cell_type": "code",
   "execution_count": 156,
   "metadata": {
    "collapsed": false
   },
   "outputs": [
    {
     "data": {
      "text/plain": [
       "(1, 31, 1)"
      ]
     },
     "execution_count": 156,
     "metadata": {},
     "output_type": "execute_result"
    }
   ],
   "source": [
    "class NearestMeanClassifier:\n",
    "    def calculate_distance(self,a,b):\n",
    "        return (a[0]!=b[0])**2+((a[1]-b[1])/50.0)**2 +(a[2]!=b[2])**2\n",
    "    def calculate_mean(self):\n",
    "        pass\n",
    "    def train(self,training_set):\n",
    "        self.training_set = training_set\n",
    "        pass\n",
    "    def predict(self,test_item):\n",
    "#         distance = [tuple((self.calculate_distance(test_item,item[0]),item[1])) for item in self.training_set]\n",
    "#         distance = min(distance,key=lambda x:x[0])\n",
    "#         return (test_item,distance[1])\n",
    "    pass\n",
    "    def numerize_item(self,item):\n",
    "        return tuple((1 if item[0]=='yes' else 0,item[1],0 if item[2]=='good' else 1))\n",
    "# def numerize_item(item):\n",
    "#     tuple(item[0]\n",
    "# [list(item) for item in health_data]\n",
    "# 1 if ('A'=='3') else 0\n",
    "# item = tuple(('yes',31,'good'))\n"
   ]
  },
  {
   "cell_type": "markdown",
   "metadata": {},
   "source": [
    "* Build an object of class `NearestMeanClassifier`, train it on the training data, and print the mean vector for each class."
   ]
  },
  {
   "cell_type": "code",
   "execution_count": 8,
   "metadata": {
    "collapsed": false
   },
   "outputs": [
    {
     "name": "stdout",
     "output_type": "stream",
     "text": [
      "{'more': (0.57, 37.14, 0.57), 'less': (0.33, 32.11, 0.22)}\n"
     ]
    }
   ],
   "source": []
  },
  {
   "cell_type": "markdown",
   "metadata": {},
   "source": [
    "* Predict the test data using the nearest mean classifier and print all test examples for which all three classifiers (decision tree, nearest neighbor and nearest mean) agree."
   ]
  },
  {
   "cell_type": "code",
   "execution_count": 9,
   "metadata": {
    "collapsed": false
   },
   "outputs": [
    {
     "name": "stdout",
     "output_type": "stream",
     "text": [
      "(('yes', '21', 'poor'), 'more')\n",
      "(('no', '50', 'good'), 'less')\n",
      "(('no', '23', 'good'), 'less')\n",
      "(('yes', '45', 'poor'), 'more')\n",
      "(('yes', '51', 'good'), 'more')\n",
      "(('no', '60', 'good'), 'less')\n",
      "(('no', '15', 'poor'), 'more')\n",
      "(('no', '18', 'good'), 'less')\n"
     ]
    }
   ],
   "source": []
  },
  {
   "cell_type": "code",
   "execution_count": null,
   "metadata": {
    "collapsed": true
   },
   "outputs": [],
   "source": []
  }
 ],
 "metadata": {
  "kernelspec": {
   "display_name": "Python 2",
   "language": "python",
   "name": "python2"
  },
  "language_info": {
   "codemirror_mode": {
    "name": "ipython",
    "version": 2
   },
   "file_extension": ".py",
   "mimetype": "text/x-python",
   "name": "python",
   "nbconvert_exporter": "python",
   "pygments_lexer": "ipython2",
   "version": "2.7.13"
  }
 },
 "nbformat": 4,
 "nbformat_minor": 0
}
