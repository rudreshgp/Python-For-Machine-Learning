{
 "cells": [
  {
   "cell_type": "markdown",
   "metadata": {},
   "source": [
    "# Exercise Sheet 1: Python Basics\n",
    "\n",
    "This first  exercise sheet tests the basic functionalities of the Python programming language in the context of a simple prediction task. We consider the problem of predicting health risk of subjects from personal data and habits. We first use for this task a decision tree\n",
    "\n",
    "![](tree.png)\n",
    "\n",
    "adapted from the webpage http://www.refactorthis.net/post/2013/04/10/Machine-Learning-tutorial-How-to-create-a-decision-tree-in-RapidMiner-using-the-Titanic-passenger-data-set.aspx. For this exercise sheet, you are required to use only pure Python, and to not import any module, including numpy. In exercise sheet 2, the nearest neighbor part of this exercise sheet will be revisited with numpy."
   ]
  },
  {
   "cell_type": "markdown",
   "metadata": {},
   "source": [
    "## Classifying a single instance (15 P)\n",
    "\n",
    "* Create a function that takes as input a tuple containing values for attributes (smoker,age,diet), and computes the output of the decision tree.\n",
    "* Test your function on the tuple `('yes',31,'good')`,"
   ]
  },
  {
   "cell_type": "code",
   "execution_count": 44,
   "metadata": {
    "collapsed": false
   },
   "outputs": [
    {
     "name": "stdout",
     "output_type": "stream",
     "text": [
      "(('yes', 31, 'good'), 'more')\n"
     ]
    }
   ],
   "source": [
    "def Predict(x):\n",
    "    x1 = {'smoker':x[0],'age':int(x[1]),'diet':x[2]}\n",
    "    risk='none'\n",
    "    if(x1['smoker']=='yes'):\n",
    "        if(x1['age']<29.5):\n",
    "            risk='less'\n",
    "        else:\n",
    "            risk='more'\n",
    "    else:\n",
    "        if(x1['diet']=='good'):\n",
    "            risk='less'\n",
    "        else:\n",
    "            risk='more'\n",
    "    return tuple((x,risk))\n",
    "x = Predict(tuple(('yes',31,'good')))\n",
    "print(x)"
   ]
  },
  {
   "cell_type": "markdown",
   "metadata": {},
   "source": [
    "## Reading a dataset from a text file (10 P)\n",
    "\n",
    "The file `health-test.txt` contains several fictious records of personal data and habits.\n",
    "\n",
    "* Read the file automatically using the methods introduced during the lecture.\n",
    "* Represent the dataset as a list of tuples."
   ]
  },
  {
   "cell_type": "code",
   "execution_count": 45,
   "metadata": {
    "collapsed": false,
    "scrolled": true
   },
   "outputs": [],
   "source": [
    "def ReadFromFile(filename,testData = False,predicttuple=False):\n",
    "    filecontent = open(filename,'r').read()\n",
    "    dataArray = []\n",
    "    for line in filecontent.splitlines():\n",
    "        data = line.split(',')\n",
    "        if(testData):\n",
    "            if(predicttuple):\n",
    "                dataArray.append(Predict(tuple(data)))\n",
    "            else:\n",
    "                dataArray.append(tuple(data))\n",
    "        else:\n",
    "            dataArray.append(tuple((tuple(data[0:3]),data[3])))\n",
    "    return dataArray"
   ]
  },
  {
   "cell_type": "markdown",
   "metadata": {},
   "source": [
    "## Applying the decision tree to the dataset (15 P)\n",
    "\n",
    "* Apply the decision tree to all points in the dataset, and compute the percentage of them that are classified as \"more risk\"."
   ]
  },
  {
   "cell_type": "code",
   "execution_count": 46,
   "metadata": {
    "collapsed": false
   },
   "outputs": [
    {
     "name": "stdout",
     "output_type": "stream",
     "text": [
      "('Risk : ', '0.375')\n"
     ]
    }
   ],
   "source": [
    "def ComputeRisk(x):\n",
    "    morerisk = [col for col in x if col[1]=='more']\n",
    "    print('Risk : ', str(len(morerisk)/float(len(x))))\n",
    "    \n",
    "testArray = ReadFromFile('E:\\Academic\\ML_Python\\sheet1\\health-test.txt', True, True)\n",
    "ComputeRisk(testArray)\n",
    "testArray = ReadFromFile('E:\\Academic\\ML_Python\\sheet1\\health-test.txt', True)\n",
    "# ComputeRisk(dataArray)"
   ]
  },
  {
   "cell_type": "markdown",
   "metadata": {},
   "source": [
    "## Learning from examples (10 P)\n",
    "\n",
    "Suppose that instead of relying on a fixed decision tree, we would like to use a data-driven approach where data points are classified based on a set of training observations manually labeled by experts. Such labeled dataset is available in the file `health-train.txt`. The first three columns have the same meaning than for `health-test.txt`, and the last column corresponds to the labels.\n",
    "\n",
    "* Write a procedure that reads this file and converts it into a list of pairs. The first element of each pair is a triplet of attributes, and the second element is the label."
   ]
  },
  {
   "cell_type": "code",
   "execution_count": 47,
   "metadata": {
    "collapsed": false
   },
   "outputs": [],
   "source": [
    "dataArray = ReadFromFile('E:\\Academic\\ML_Python\\sheet1\\health-train.txt')"
   ]
  },
  {
   "cell_type": "markdown",
   "metadata": {},
   "source": [
    "## Nearest neighbor classifier (25 P)\n",
    "\n",
    "We consider the nearest neighbor algorithm that classifies test points following the label of the nearest neighbor in the training data. For this, we need to define a distance function between data points. We define it to be\n",
    "\n",
    "`d(a,b) = (a[0]!=b[0])+((a[1]-b[1])/50.0)**2+(a[2]!=b[2])`\n",
    "\n",
    "where `a` and `b` are two tuples corrsponding to the attributes of two data points.\n",
    "\n",
    "* Write a function that retrieves for a test point the nearest neighbor in the training set, and classifies the test point accordingly.\n",
    "* Test your function on the tuple `('yes',31,'good')`"
   ]
  },
  {
   "cell_type": "code",
   "execution_count": 48,
   "metadata": {
    "collapsed": false
   },
   "outputs": [
    {
     "name": "stdout",
     "output_type": "stream",
     "text": [
      "(('yes', 31, 'good'), 'more')\n",
      "(('yes', 31, 'good'), 'more', 0.0016)\n"
     ]
    }
   ],
   "source": [
    "def CalculateDistanace(a,b):\n",
    "    return (a , int(a[0][0]!=b[0])+(((int(a[0][1])-int(b[1]))/50.0)**2)+(int(a[0][2]!=b[2])))\n",
    "def NearestNeighbour(inp):\n",
    "    distanceArray = [CalculateDistanace(a,inp) for a in dataArray]\n",
    "    distanceArray = sorted(distanceArray, key=lambda x : x[1])\n",
    "    return (inp,distanceArray[0][0][1],distanceArray[0][1])\n",
    "\n",
    "print(Predict(tuple(('yes',31,'good'))))\n",
    "print(NearestNeighbour(tuple(('yes',31,'good'))))"
   ]
  },
  {
   "cell_type": "markdown",
   "metadata": {},
   "source": [
    "* Apply both the decision tree and nearest neighbor classifiers on the test set, and find the data point(s) for which the two classifiers disagree, and the fraction of the time it happens."
   ]
  },
  {
   "cell_type": "code",
   "execution_count": 49,
   "metadata": {
    "collapsed": false
   },
   "outputs": [
    {
     "name": "stdout",
     "output_type": "stream",
     "text": [
      "([('yes', '51', 'good')], 0.125)\n"
     ]
    }
   ],
   "source": [
    "wrongClassification = []\n",
    "for test in testArray:\n",
    "    decisionValue = Predict(test)\n",
    "    nearestNeigbourValue = NearestNeighbour(test)\n",
    "    if(int(decisionValue[1]!= nearestNeigbourValue[1])):\n",
    "        wrongClassification.append(test)\n",
    "print(wrongClassification , len(wrongClassification)/float(len(testArray)))\n"
   ]
  },
  {
   "cell_type": "markdown",
   "metadata": {},
   "source": [
    "One problem of simple nearest neighbors is that one needs to compare the point to predict to all data points in the training set. This can be slow for datasets of thousands of points or more. Alternatively, some classifiers train a model first, and then use it to classify the data.\n",
    "\n",
    "## Nearest mean classifier (25 P)\n",
    "\n",
    "We consider one such trainable model, which operates in two steps:\n",
    "\n",
    "(1) Compute the average point for each class, (2) classify new points to be of the class whose average point is nearest to the point to predict.\n",
    "\n",
    "For this classifier, we convert the attributes smoker and diet to real values (for smoker: yes=1.0 and no=0.0, and for diet: good=0.0 and poor=1.0), and use the modified distance function:\n",
    "\n",
    "`d(a,b) = (a[0]-b[0])**2+((a[1]-b[1])/50.0)**2+(a[2]-b[2])**2`\n",
    "\n",
    "We adopt an object-oriented approach for building this classifier.\n",
    "\n",
    "* Implement the methods `train` and `predict` of the class `NearestMeanClassifier`."
   ]
  },
  {
   "cell_type": "code",
   "execution_count": 50,
   "metadata": {
    "collapsed": true
   },
   "outputs": [],
   "source": [
    "def modifydata(dataset,testdata=False):\n",
    "    smoker = { 'yes' : 1.0, 'no':0.0}\n",
    "    diet = {'good':0.0 , 'poor':1.0}\n",
    "    if(testdata):\n",
    "         modifiedData = [tuple((smoker[x[0]],x[1],diet[x[2]])) for x in dataset]\n",
    "    else:\n",
    "        modifiedData = [tuple((tuple((smoker[x[0][0]],x[0][1],diet[x[0][2]])),x[1])) for x in dataset]\n",
    "    return modifiedData\n",
    "\n",
    "def mean(numbers,totalcount):\n",
    "    return round(sum(numbers) / totalcount,2)\n",
    "def computedistance(a,b):\n",
    "    return round((a[0]-b[0])**2+(((int(a[1])-int(b[1]))/50.0)**2)+(a[2]-b[2])**2,2)\n",
    "class NearestMeanClassifier:\n",
    "    def train(self,dataset):\n",
    "        \n",
    "        modifiedData = modifydata(dataset)\n",
    "        totallength = len(modifiedData)\n",
    "        less = [x for x in modifiedData if x[1] == 'less']\n",
    "        more = [x for x in modifiedData if x[1] == 'more']\n",
    "        lessmeanvector = []\n",
    "        moremeanvector = []\n",
    "        for x in ((less,lessmeanvector),(more,moremeanvector)):\n",
    "            for i in range(0,3):\n",
    "                data = [float(y[0][i]) for y in  x[0]]\n",
    "                x[1].append(mean(data,len(x[0])))\n",
    "        \n",
    "        lessmeanvector = {'less':tuple((lessmeanvector))}\n",
    "        moremeanvector = {'more':tuple((moremeanvector))}\n",
    "        self.meanvector =  lessmeanvector.copy()\n",
    "        self.meanvector.update(moremeanvector)\n",
    "        return self.meanvector\n",
    "    def predict(self,original,modified):\n",
    "        predictedData = []\n",
    "        for x in (self.meanvector):\n",
    "            distance = computedistance(self.meanvector[x],modified)\n",
    "            predictedData.append((x,original,distance))\n",
    "        predictedData = sorted(predictedData,key =  lambda x:x[2])\n",
    "        return (predictedData[0][1],predictedData[0][0])\n",
    "            \n",
    "    def predicttestdata(self):\n",
    "        testdata = ReadFromFile('E:\\Academic\\ML_Python\\sheet1\\health-test.txt',True)\n",
    "        modifiedData = modifydata(testdata,True)\n",
    "        for sample in zip(testdata,modifiedData):\n",
    "            print(self.predict(sample[0],sample[1]))\n",
    "            \n",
    "dataArray = ReadFromFile('E:\\Academic\\ML_Python\\sheet1\\health-train.txt')    \n"
   ]
  },
  {
   "cell_type": "markdown",
   "metadata": {},
   "source": [
    "* Build an object of class `NearestMeanClassifier`, train it on the training data, and print the mean vector for each class."
   ]
  },
  {
   "cell_type": "code",
   "execution_count": 51,
   "metadata": {
    "collapsed": false
   },
   "outputs": [
    {
     "name": "stdout",
     "output_type": "stream",
     "text": [
      "{'more': (0.57, 37.14, 0.57), 'less': (0.33, 32.11, 0.22)}\n"
     ]
    }
   ],
   "source": [
    "classifier = NearestMeanClassifier()\n",
    "data = classifier.train(dataArray)\n",
    "print(data)"
   ]
  },
  {
   "cell_type": "markdown",
   "metadata": {},
   "source": [
    "* Predict the test data using the nearest mean classifier and print all test examples for which all three classifiers (decision tree, nearest neighbor and nearest mean) agree."
   ]
  },
  {
   "cell_type": "code",
   "execution_count": 52,
   "metadata": {
    "collapsed": false
   },
   "outputs": [
    {
     "name": "stdout",
     "output_type": "stream",
     "text": [
      "(('yes', '21', 'poor'), 'more')\n",
      "(('no', '50', 'good'), 'less')\n",
      "(('no', '23', 'good'), 'less')\n",
      "(('yes', '45', 'poor'), 'more')\n",
      "(('yes', '51', 'good'), 'more')\n",
      "(('no', '60', 'good'), 'less')\n",
      "(('no', '15', 'poor'), 'more')\n",
      "(('no', '18', 'good'), 'less')\n"
     ]
    }
   ],
   "source": [
    "classifier.predicttestdata()"
   ]
  }
 ],
 "metadata": {
  "kernelspec": {
   "display_name": "Python 2",
   "language": "python",
   "name": "python2"
  },
  "language_info": {
   "codemirror_mode": {
    "name": "ipython",
    "version": 2
   },
   "file_extension": ".py",
   "mimetype": "text/x-python",
   "name": "python",
   "nbconvert_exporter": "python",
   "pygments_lexer": "ipython2",
   "version": "2.7.13"
  }
 },
 "nbformat": 4,
 "nbformat_minor": 0
}
